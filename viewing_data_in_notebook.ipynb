{
 "metadata": {
  "kernelspec": {
   "display_name": "Streamlit Notebook",
   "name": "streamlit"
  }
 },
 "nbformat_minor": 5,
 "nbformat": 4,
 "cells": [
  {
   "cell_type": "markdown",
   "id": "1eea9ee1-908e-4f26-8f29-f33392223412",
   "metadata": {
    "name": "HEADING_1",
    "collapsed": false
   },
   "source": "![](https://www.snowflake.com/wp-content/themes/snowflake/assets/img/brand-guidelines/logo-sno-blue-example.svg) \n\n## 2.1 Viewing the data with a notebook \n"
  },
  {
   "cell_type": "markdown",
   "id": "438f1411-82d8-496b-be52-ad4daf0b61c5",
   "metadata": {
    "name": "NARRITIVE_21",
    "collapsed": false
   },
   "source": "\nThe notebook compute comes pre installed with some basic packages which include snowpark and streamlit. In this scenario we would also like to leverage matplotlib. As this package is freely available within the Snowflake Anoconda channel, you can install it easily using the packages dropdown packages, add matplotlib and also add pydeck (this is for the final exercise)"
  },
  {
   "cell_type": "code",
   "id": "c8da1f50-268a-41c3-8dec-59cc2343d6b7",
   "metadata": {
    "language": "python",
    "name": "IMPORT_PACKAGES_21",
    "collapsed": false
   },
   "outputs": [],
   "source": "\n#  Copyright (c) 2023 Snowflake Computing Inc. All rights reserved.\n\n# Import python packages\nimport streamlit as st\nimport pandas as pd\nfrom snowflake.snowpark import functions as F   \nfrom snowflake.snowpark.window import Window\n# We can also use Snowpark for our analyses!\nfrom snowflake.snowpark.context import get_active_session\nsession = get_active_session()\nfrom snowflake.snowpark import types as T",
   "execution_count": null
  },
  {
   "cell_type": "markdown",
   "id": "f4eea211-f05b-494d-b089-828f0dfe7ce9",
   "metadata": {
    "name": "THE_WHO_22",
    "collapsed": false
   },
   "source": "## 2.2 THE WHO\n![The Who](https://www.gransnet.com/cms/uploads/GN_Images/content/legal-and-money/all_shutterstock_fireplace.jpg)"
  },
  {
   "cell_type": "markdown",
   "id": "f0d9896a-5378-432d-af13-c3fb305239a7",
   "metadata": {
    "name": "NARRITIVE_22",
    "collapsed": false
   },
   "source": "Our first part of the analysis is to look at the WHO. The provided shared dataset contains a synthetic population dataset. We will have a look at the contents of this.\n"
  },
  {
   "cell_type": "code",
   "id": "440d2f56-2b69-4fb7-8479-b874e98ff764",
   "metadata": {
    "language": "python",
    "name": "view_totals",
    "collapsed": false
   },
   "outputs": [],
   "source": "population = session.table('COLD_WEATHER_PAYMENTS_DATASET.DATA.\"Synthetic Population\"')\n\ncol1,col2,col3,col4= st.columns(4)\n\nwith col1:\n    st.metric('Total Population: ', population.count())\nwith col2:\n    st.metric('Total Households:', population.select('HOUSEHOLD').distinct().count())\nwith col3:\n    st.metric('Total Not Working', population.filter(F.col('OCCUPATION_CODE')==2).count())\nwith col4:\n    st.metric('Total Under 16yr olds', population.filter(F.col('OCCUPATION_CODE')!=1).count())",
   "execution_count": null
  },
  {
   "cell_type": "markdown",
   "id": "31e0a890-c3da-4041-9c8d-59aa4d06fd4b",
   "metadata": {
    "name": "narritive_23",
    "collapsed": false
   },
   "source": "You can also view the same information using SQL."
  },
  {
   "cell_type": "code",
   "id": "a49d770a-471e-4e02-968a-e7b984aec419",
   "metadata": {
    "language": "sql",
    "name": "sql_metrics",
    "collapsed": false
   },
   "outputs": [],
   "source": "\nSELECT COUNT(*) \"Total People\", APPROX_COUNT_DISTINCT(HOUSEHOLD) \"Total Households\", COUNT(CASE OCCUPATION_CODE WHEN 2 THEN 1 END) \"Total Not Working\" FROM COLD_WEATHER_PAYMENTS_DATASET.DATA.\"Synthetic Population\"",
   "execution_count": null
  },
  {
   "cell_type": "markdown",
   "id": "cd653b9b-a285-488c-84b7-c37f0ff8398c",
   "metadata": {
    "name": "title_24",
    "collapsed": false
   },
   "source": "Now lets look at a sample of the population. We will look at a sample of 20% of the population and then limit the return to 100 rows"
  },
  {
   "cell_type": "code",
   "id": "a1ae420c-e0f2-47d6-a07a-a4e7e3d9cdb7",
   "metadata": {
    "language": "python",
    "name": "sample_population",
    "collapsed": false
   },
   "outputs": [],
   "source": "\npopulation.sample(0.2).limit(100);",
   "execution_count": null
  },
  {
   "cell_type": "markdown",
   "id": "1b673728-625e-4cc6-897c-715aa99978c5",
   "metadata": {
    "name": "title_25",
    "collapsed": false
   },
   "source": "Lets see counts of the population by occupations and gender"
  },
  {
   "cell_type": "code",
   "id": "0cc483b2-4ed0-480e-a09c-c66806aa42bb",
   "metadata": {
    "language": "python",
    "name": "group_by_demographics",
    "collapsed": false
   },
   "outputs": [],
   "source": "\ngender = population.group_by('SEX').count()\noccupation = population.group_by('OCCUPATION').agg(F.any_value('OCCUPATION_CODE').alias('Occupation Code')\n                                                   ,F.count('*').alias('COUNT'))\n\nst.table(gender)\nst.table(occupation)",
   "execution_count": null
  },
  {
   "cell_type": "markdown",
   "id": "d2309183-51a5-4fe4-b9ea-61a252fd9bd4",
   "metadata": {
    "name": "title_26",
    "collapsed": false
   },
   "source": "We will utilise streamlit's basic charting capabilities to simply look at the distribution by occupation and gender"
  },
  {
   "cell_type": "code",
   "id": "cd3b4604-2d7d-441c-a5e8-e550dea43b29",
   "metadata": {
    "language": "python",
    "name": "streamlit_groupings",
    "collapsed": false
   },
   "outputs": [],
   "source": "\nst.markdown('People by Occupation and Sex')\ncol1, col2 = st.columns(2)\nwith col1:\n    st.bar_chart(occupation,x='OCCUPATION',y='COUNT')\nwith col2:\n    st.bar_chart(gender,x='SEX',y='COUNT')\n",
   "execution_count": null
  },
  {
   "cell_type": "markdown",
   "id": "d4119675-dcc0-41c0-9904-a572186b098a",
   "metadata": {
    "name": "title_27",
    "collapsed": false
   },
   "source": "We can use this information to filter the citizens"
  },
  {
   "cell_type": "code",
   "id": "5830dd23-b5c2-4752-a76c-8a743bfcf82c",
   "metadata": {
    "language": "python",
    "name": "streamlit_filters",
    "collapsed": false
   },
   "outputs": [],
   "source": "\ncol1,col2,col3 = st.columns(3)\nwith col1:\n    Gender = st.radio('Gender',gender)\nwith col2:\n    elderly = st.selectbox('Occupation',occupation)\nwith col3:\n    Age_Range = st.slider('Age Range',1,99,(1,99))\n",
   "execution_count": null
  },
  {
   "cell_type": "markdown",
   "id": "c4b664fd-e575-4d7f-82df-00c109eed658",
   "metadata": {
    "name": "title_28",
    "collapsed": false
   },
   "source": "Add a SQL sell which will reveal a sample of the sample population. The parameters you have just created will be used to filter the query below."
  },
  {
   "cell_type": "code",
   "id": "f428a635-17ac-4ee7-a8ce-9b242442f784",
   "metadata": {
    "language": "sql",
    "name": "sql_ageranges_filtered",
    "collapsed": false
   },
   "outputs": [],
   "source": "\nselect * from (select * from COLD_WEATHER_PAYMENTS_DATASET.DATA.\"Synthetic Population\"  where SEX = '{{Gender}}' and AGE BETWEEN {{Age_Range[0]}}AND {{Age_Range[1]}} )sample(100 rows)\n",
   "execution_count": null
  },
  {
   "cell_type": "markdown",
   "id": "3fc1c392-2bf4-47bb-94ea-f7aa739ad0e1",
   "metadata": {
    "name": "title_29",
    "collapsed": false
   },
   "source": "For the calculator, I have decided that all policies will be based around citizens who are not working, and live in households where everyone else is not working.  In reality, the selection will be based on numerous factors.\n\nLets start of by creating a dataset based on people who are not working."
  },
  {
   "cell_type": "code",
   "id": "df423245-20a8-4a52-90c6-b73a0a76f591",
   "metadata": {
    "language": "python",
    "name": "filter_not_working",
    "collapsed": false
   },
   "outputs": [],
   "source": "\npopulation_not_working = population.filter(F.col('OCCUPATION_CODE')==2)\n\npopulation_not_working.limit(10)\n",
   "execution_count": null
  },
  {
   "cell_type": "markdown",
   "id": "163cd744-f5ee-4216-bf46-2327b9f80025",
   "metadata": {
    "name": "title_30",
    "collapsed": false
   },
   "source": "We will now create a table which counts the number of people working in every household."
  },
  {
   "cell_type": "code",
   "id": "ea9f4738-b93a-4642-9917-c779f972d7dc",
   "metadata": {
    "language": "python",
    "name": "working_households",
    "collapsed": false
   },
   "outputs": [],
   "source": "\npopulation_working = population.filter((F.col('OCCUPATION_CODE')!=2) | (F.col('OCCUPATION_CODE')==1))\n\nworking_household = population_working.select('HOUSEHOLD','NI NUMBER').group_by(F.col('HOUSEHOLD')).agg(F.count('*').alias('WORKING_PEOPLE'))\n\nworking_household.limit(10)\n",
   "execution_count": null
  },
  {
   "cell_type": "markdown",
   "id": "325e81d7-bf3e-4ece-8a53-760071d185c8",
   "metadata": {
    "name": "title_31",
    "collapsed": false
   },
   "source": "Let's now visualise the people who are not working and also do not live with anyone who is working. To do this we did a join to the the working household dataframe we just created and then filtered out any matches. We are also importing matplotlib to visualise the distribution of key metrics."
  },
  {
   "cell_type": "code",
   "id": "49b5a1e0-4e08-499f-9b4d-3470b2d1c2d9",
   "metadata": {
    "language": "python",
    "name": "visualise_entitled_people",
    "collapsed": false
   },
   "outputs": [],
   "source": "\nimport matplotlib.pyplot as plt\n\npopulation_entitled_cold_weather = population_not_working.join(working_household, on=(population_not_working['HOUSEHOLD']==working_household['HOUSEHOLD']), how='outer',rsuffix='_L').drop('HOUSEHOLD_L')\\\n.filter(F.col('WORKING_PEOPLE').isNull()).drop('WORKING_PEOPLE')\n\nst.metric('Total entitled for cold weather payments:', population_entitled_cold_weather.count())\n\nst.markdown('#### Sample of data extracted')\nhist_sample = population_entitled_cold_weather.sample(0.2)#.limit(1000)\nhist = hist_sample.select(F.col('AGE'),'MORBILITIES','YEARS_AT_ADDRESS','DISTANCE_FROM_PRACTICE').to_pandas().hist(bins=7)\n\ncol1,col2,col3 = st.columns([0.2,0.6,0.2])\nwith col2:\n    plt.show()\n",
   "execution_count": null
  },
  {
   "cell_type": "markdown",
   "id": "da82af36-ed45-40dc-9fff-d196655892e9",
   "metadata": {
    "name": "title_32",
    "collapsed": false
   },
   "source": "Now, let's create a table with names and addresses of all households who will get a cold weather payment if the weather permits this."
  },
  {
   "cell_type": "code",
   "id": "618adc65-6216-4c89-99a8-75b954332e0b",
   "metadata": {
    "language": "python",
    "name": "create_address_table",
    "collapsed": false
   },
   "outputs": [],
   "source": "\nhouseholds_cold_weather = population_entitled_cold_weather.with_column('ELECTRICITY_BILL_PAYER',F.concat('FIRST_NAME',F.lit(' '),'LAST_NAME')).group_by('HOUSEHOLD','ADDRESS_1','ADDRESS_2','ADDRESS_3','POSTCODE','LSOA_CODE')\\\n.agg(F.any_value('ELECTRICITY_BILL_PAYER').alias('HOUSEHOLD_BILL_PAYER'),F.count('*').alias('NUMBER OF OCCUPANTS'))\n\nhouseholds_cold_weather.sample(0.2).limit(10)\n",
   "execution_count": null
  },
  {
   "cell_type": "markdown",
   "id": "230991da-b038-487c-ba0f-51aa2018cf2f",
   "metadata": {
    "name": "title_33",
    "collapsed": false
   },
   "source": "We have now managed to work out who would be entitled based on who is not working, and who doesn't live with anyone who is working. Of course, in reality the selection would be more scientific - such as measuring based on who is receiving universal credits."
  },
  {
   "cell_type": "code",
   "id": "31f13471-9be0-4ed2-9d79-59f95fc8b779",
   "metadata": {
    "language": "python",
    "name": "bring_in_postcodes",
    "collapsed": false
   },
   "outputs": [],
   "source": "\npostcodes = session.table('RESIDENTIAL_POSTCODES.GEOLOCAL.GEOLOCAL_RESIDENTIAL_POSTCODE')\npostcodes = postcodes.select('\"PCD\"',F.col('LAT').astype(T.FloatType()).alias('LAT'),F.col('LON').astype(T.FloatType()).alias('LON'))\npostcodes.limit(10)\n",
   "execution_count": null
  },
  {
   "cell_type": "markdown",
   "id": "113d0fb3-f8af-4468-99b1-4ad6247586a2",
   "metadata": {
    "name": "the_where_2_3",
    "collapsed": false
   },
   "source": "## 2.3 THE WHERE\n![The Where](https://camo.githubusercontent.com/c8d321142c12bbbe569fe59237bd6c62faa7f6c0fdc29109fda223c6bf06e0cd/68747470733a2f2f656e637279707465642d74626e302e677374617469632e636f6d2f696d616765733f713d74626e3a414e6439476354784a4c344e74527a657665314d52744e614b626331464f35514333762d6d7a6f426d412673)"
  },
  {
   "cell_type": "markdown",
   "id": "1e2f9a56-4074-4cf9-af9f-90491f48b42b",
   "metadata": {
    "name": "title_2_3_1",
    "collapsed": false
   },
   "source": "In order to understand the where, we need to look at the location of the residents. We have postcodes but we do not currently know whereabouts in the world they are linked to. The More Metrics dataset has a free listing of all UK postcodes."
  },
  {
   "cell_type": "markdown",
   "id": "01818c28-983d-4f6a-9ccd-891ec19b5cf4",
   "metadata": {
    "name": "title_2_3_1_1",
    "collapsed": false
   },
   "source": "Lets now join these postcodes to the households who may be entitled to cold weather payments."
  },
  {
   "cell_type": "code",
   "id": "49d63ec3-f89d-469a-897a-47f66247c441",
   "metadata": {
    "language": "python",
    "name": "join_postcodes_weather",
    "collapsed": false
   },
   "outputs": [],
   "source": "households_cold_weather_with_points = postcodes.join(households_cold_weather,type='inner',\n                     on=postcodes['\"PCD\"']==households_cold_weather['POSTCODE'])\n",
   "execution_count": null
  },
  {
   "cell_type": "markdown",
   "id": "704d2e18-76d0-4d59-96ee-925163bdc570",
   "metadata": {
    "name": "title_34",
    "collapsed": false
   },
   "source": "We will now leverage the streamlit module st.map to visualise where the residents are located."
  },
  {
   "cell_type": "code",
   "id": "f44a776c-5de0-4ec3-9b87-86ce02d5fcf5",
   "metadata": {
    "language": "python",
    "name": "sample_weather",
    "collapsed": false
   },
   "outputs": [],
   "source": "sample = households_cold_weather_with_points.sample(0.01)\n\nst.map(sample)\nst.dataframe(sample)",
   "execution_count": null
  },
  {
   "cell_type": "markdown",
   "id": "fe23a9de-105a-4a15-a058-7865a573ec05",
   "metadata": {
    "name": "title_2_4_the_when",
    "collapsed": false
   },
   "source": "## 2.4 The When\n![The When](https://www.telegraph.co.uk/multimedia/archive/03478/bttf2_3478174a.jpg?imwidth=1280)"
  },
  {
   "cell_type": "markdown",
   "id": "ed5ef68c-d7a9-4530-b0f0-f3d08f4e0578",
   "metadata": {
    "name": "title_2_4_1",
    "collapsed": false
   },
   "source": "We want the policy to pay a cold weather payment only when the weather has reached a certain level. At this point in time, its based on postcode, and its based on if the weather gets colder than 0 degrees in any 7 day rolling period. For this calculation, we need historical weather data. This is what we will use the met office weather data for."
  },
  {
   "cell_type": "code",
   "id": "bf1c9ad4-5e38-4d00-bd4c-84cd71707dba",
   "metadata": {
    "language": "python",
    "name": "weather_summary",
    "collapsed": false
   },
   "outputs": [],
   "source": "\nsummary_data = session.table('COLD_WEATHER_PAYMENTS_DATASET.DATA.\"Hourly Forecast\"')\nsummary_data.show()\n",
   "execution_count": null
  },
  {
   "cell_type": "markdown",
   "id": "75a406fd-8008-4a32-a5b9-10742836ca7d",
   "metadata": {
    "name": "title_2_4_2",
    "collapsed": false
   },
   "source": "Creating the calculation will require time series analysis. Lets construct a date from the 'Valid Hour' column and filter the dates to be when the policy is valid."
  },
  {
   "cell_type": "code",
   "id": "8ea30013-46ce-4eed-860c-fd01407ceb80",
   "metadata": {
    "language": "python",
    "name": "daily_temperature",
    "collapsed": false
   },
   "outputs": [],
   "source": "\nhourly_with_date = summary_data.with_column('\"Date\"',\n                         F.date_from_parts(F.substr('\"Valid Hour\"',1,4),\n                                          F.substr('\"Valid Hour\"',5,2),\n                                          F.substr('\"Valid Hour\"',7,2)))\n\nhourly_with_date_grp = hourly_with_date.filter(F.col('\"Date\"').between('2022-11-01','2023-03-31'))\\\n.group_by('\"Date\"').agg(F.avg(F.cast('\"Instantaneous Screen Temperature\"',T.FloatType())).alias('Instantaneous Screen Temperature'))\n",
   "execution_count": null
  },
  {
   "cell_type": "markdown",
   "id": "b31e2d85-f2d8-4fdb-9b58-10e56f14712b",
   "metadata": {
    "name": "title_2_4_3",
    "collapsed": false
   },
   "source": "Let's look at at Screen Temperature, to see what impact that may have."
  },
  {
   "cell_type": "code",
   "id": "a6d7c10f-001e-4eea-9331-6a2e37c7bdaa",
   "metadata": {
    "language": "python",
    "name": "line_chart_temperature",
    "collapsed": false
   },
   "outputs": [],
   "source": "\nst.line_chart(hourly_with_date_grp,y='Instantaneous Screen Temperature',x='Date')\n",
   "execution_count": null
  },
  {
   "cell_type": "markdown",
   "id": "ebe2e88f-fec4-40fc-8358-2732170c82f2",
   "metadata": {
    "name": "title_2_4_4",
    "collapsed": false
   },
   "source": "We will then group the average temperature by the weather station and date - we want to see average temperature per day rather than hourly."
  },
  {
   "cell_type": "code",
   "id": "c5b92102-8a4a-45d5-aa10-3f6aba20d8b0",
   "metadata": {
    "language": "python",
    "name": "average_temp",
    "collapsed": false
   },
   "outputs": [],
   "source": "\nhourly_with_date = hourly_with_date.groupBy(F.col('\"SSPA Identifier\"'),\n                         F.col('\"Date\"')).agg(F.avg('\"Instantaneous Screen Temperature\"').alias('AVERAGE_TEMP'))\n\nhourly_with_date.limit(10)\n",
   "execution_count": null
  },
  {
   "cell_type": "markdown",
   "id": "e694ae16-fd8c-4393-87b8-41be006df88b",
   "metadata": {
    "name": "title_2_4_5",
    "collapsed": false
   },
   "source": "You will note that the where is in fact a site identifier. We want to change this so we have postcode sector instead. A mapping table is used to map the site with postcode."
  },
  {
   "cell_type": "code",
   "id": "0e1e63f9-5b6f-4076-af80-b1ad0b76c8f1",
   "metadata": {
    "language": "python",
    "name": "split_postcode_sector",
    "collapsed": false
   },
   "outputs": [],
   "source": "\nweather_station = session.table('COLD_WEATHER_PAYMENTS_DATASET.DATA.PCSECTORMAPPING')\\\n.select('\"SiteID\"','PC_SECT','LONG','LAT')\\\n.with_column('Postcode_Area',F.call_function('SPLIT_PART',F.col('PC_SECT'),'_',1)).distinct()\nweather_station.limit(100).to_pandas()\n",
   "execution_count": null
  },
  {
   "cell_type": "markdown",
   "id": "fe6f1fa6-466a-4bbb-9af9-e2374e609f06",
   "metadata": {
    "name": "title_2_4_6",
    "collapsed": false
   },
   "source": "Now we have our mapping, we need to summarize the weather by postcode area (the policy goes by postcode area - i.e (DY13))."
  },
  {
   "cell_type": "code",
   "id": "c31da25f-53bf-4f92-9ee0-fab4f729635e",
   "metadata": {
    "language": "python",
    "name": "join_weather_to_postcode",
    "collapsed": false
   },
   "outputs": [],
   "source": "\nhourly_with_date_ws = hourly_with_date.join(weather_station,on=weather_station['\"SiteID\"']==hourly_with_date['\"SSPA Identifier\"'])\\\n.group_by('\"Date\"',\n          'POSTCODE_AREA').agg(F.avg(F.cast('LAT',T.FloatType())).alias('LAT'),\n                               F.avg(F.cast('LONG',T.FloatType())).alias('LON'),\n                               F.avg(F.cast('AVERAGE_TEMP',T.FloatType())).alias('AVERAGE_TEMP'))\n\nhourly_with_date_ws.limit(10)\n",
   "execution_count": null
  },
  {
   "cell_type": "markdown",
   "id": "59acd376-b6f4-47ea-ba38-e11124bd182c",
   "metadata": {
    "name": "title_2_4_7",
    "collapsed": false
   },
   "source": "Because we need the calculation to be based on a moving average, we need the next calculation to be dynamic. Snowflake supports window functions - which allows the calculation to be applied after the result set is generated.\n\n[More info on window calculations](https://docs.snowflake.com/en/sql-reference/functions-analytic)\n\nLets create a python function to calculate the moving average"
  },
  {
   "cell_type": "code",
   "id": "32d8d333-241a-483e-aa5b-9275aa34c11a",
   "metadata": {
    "language": "python",
    "name": "moving_average_rolling_period",
    "collapsed": false
   },
   "outputs": [],
   "source": "\ndef movaverage(days,df):\n    window = Window.partition_by(F.col('\"POSTCODE_AREA\"')).orderBy(F.col('\"Date\"').desc()).rows_between(Window.currentRow,7)\n\n    # Add moving averages columns for Cloud Cover and Solar Energy based on the previously defined window\n    df = df.with_column('\"Temp_Max_Temp_7_Days\"',F.max(F.cast(\"AVERAGE_TEMP\",T.FloatType())).over(window)).sort('\"Date\"')\n    \n    # Change the data type to a float\n    df = df.with_column('\"AVERAGE_TEMP\"',F.cast('\"AVERAGE_TEMP\"',T.FloatType()))\n    \n    return df\n",
   "execution_count": null
  },
  {
   "cell_type": "markdown",
   "id": "5d951a4c-d326-483f-9580-be88a0fedc7c",
   "metadata": {
    "name": "title_2_4_8",
    "collapsed": false
   },
   "source": "Let's now apply the moving average function in order to filter our weather to only provide postcodes where the temperature has ben 0 or below for 7 or more consecutive days."
  },
  {
   "cell_type": "code",
   "id": "86854ea3-c936-4fc1-a490-a96a8f89a391",
   "metadata": {
    "language": "python",
    "name": "apply_mov_average",
    "collapsed": false
   },
   "outputs": [],
   "source": "\nmov_average = movaverage(7,hourly_with_date_ws).filter(F.col('\"Temp_Max_Temp_7_Days\"')<=0)\nmov_average\n",
   "execution_count": null
  },
  {
   "cell_type": "markdown",
   "id": "f20fcd2f-e161-402a-ae98-16ba64b99040",
   "metadata": {
    "name": "title_2_4_9",
    "collapsed": false
   },
   "source": "We will now join this filtered weather data set to the effected households that would be entitled to a cold weather payment."
  },
  {
   "cell_type": "code",
   "id": "1e5af999-a533-4c76-89fc-69dd89d8c055",
   "metadata": {
    "language": "python",
    "name": "weather_join_households",
    "collapsed": false
   },
   "outputs": [],
   "source": "\npeople_affected = mov_average.join(households_cold_weather_with_points.drop('LAT','LON'),\n                 on= mov_average['POSTCODE_AREA'] == F.call_function('SPLIT_PART', households_cold_weather_with_points['\"PCD\"'],F.lit(' '),1))\n\npeople_affected\n",
   "execution_count": null
  },
  {
   "cell_type": "markdown",
   "id": "6895974a-e773-4ac9-8205-9f127de9f08a",
   "metadata": {
    "name": "title_2_5_0",
    "collapsed": false
   },
   "source": "Finally lets view this on a map."
  },
  {
   "cell_type": "code",
   "id": "a4effb77-a069-4a2d-99a4-b23c6dddd2e9",
   "metadata": {
    "language": "python",
    "name": "view_map",
    "collapsed": false
   },
   "outputs": [],
   "source": "\nst.map(people_affected)\n",
   "execution_count": null
  },
  {
   "cell_type": "markdown",
   "id": "7c3544c2-44b5-41f2-85f0-3e22e4bd9eb3",
   "metadata": {
    "name": "congratulations",
    "collapsed": false
   },
   "source": "![](https://www.snowflake.com/wp-content/themes/snowflake/assets/img/brand-guidelines/logo-sno-blue-example.svg)\n\nSo in summary we have looked at some techniques to understand the who, the when and the where.  **Congratulations** you have now finnished this part of the lab.  Please go back to the main guide for section 3"
  }
 ]
}